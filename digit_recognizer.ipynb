{
  "nbformat": 4,
  "nbformat_minor": 0,
  "metadata": {
    "colab": {
      "name": "digit_recognizer.ipynb",
      "provenance": [],
      "collapsed_sections": [],
      "authorship_tag": "ABX9TyNzW75kKsMMutKIoDLrlkGx",
      "include_colab_link": true
    },
    "kernelspec": {
      "name": "python3",
      "display_name": "Python 3"
    },
    "language_info": {
      "name": "python"
    },
    "widgets": {
      "application/vnd.jupyter.widget-state+json": {
        "985d7e4df77d46c7b06473aa09a583bb": {
          "model_module": "@jupyter-widgets/controls",
          "model_name": "HBoxModel",
          "model_module_version": "1.5.0",
          "state": {
            "_view_name": "HBoxView",
            "_dom_classes": [],
            "_model_name": "HBoxModel",
            "_view_module": "@jupyter-widgets/controls",
            "_model_module_version": "1.5.0",
            "_view_count": null,
            "_view_module_version": "1.5.0",
            "box_style": "",
            "layout": "IPY_MODEL_b69115e6464a4d079b71294d11dd7322",
            "_model_module": "@jupyter-widgets/controls",
            "children": [
              "IPY_MODEL_5e9e5f80b1b44e0ab138c21399b45136",
              "IPY_MODEL_2349d49a172846ad86f154615587f246",
              "IPY_MODEL_c3435a7e88a94a94b455c193e817d262"
            ]
          }
        },
        "b69115e6464a4d079b71294d11dd7322": {
          "model_module": "@jupyter-widgets/base",
          "model_name": "LayoutModel",
          "model_module_version": "1.2.0",
          "state": {
            "_view_name": "LayoutView",
            "grid_template_rows": null,
            "right": null,
            "justify_content": null,
            "_view_module": "@jupyter-widgets/base",
            "overflow": null,
            "_model_module_version": "1.2.0",
            "_view_count": null,
            "flex_flow": null,
            "width": null,
            "min_width": null,
            "border": null,
            "align_items": null,
            "bottom": null,
            "_model_module": "@jupyter-widgets/base",
            "top": null,
            "grid_column": null,
            "overflow_y": null,
            "overflow_x": null,
            "grid_auto_flow": null,
            "grid_area": null,
            "grid_template_columns": null,
            "flex": null,
            "_model_name": "LayoutModel",
            "justify_items": null,
            "grid_row": null,
            "max_height": null,
            "align_content": null,
            "visibility": null,
            "align_self": null,
            "height": null,
            "min_height": null,
            "padding": null,
            "grid_auto_rows": null,
            "grid_gap": null,
            "max_width": null,
            "order": null,
            "_view_module_version": "1.2.0",
            "grid_template_areas": null,
            "object_position": null,
            "object_fit": null,
            "grid_auto_columns": null,
            "margin": null,
            "display": null,
            "left": null
          }
        },
        "5e9e5f80b1b44e0ab138c21399b45136": {
          "model_module": "@jupyter-widgets/controls",
          "model_name": "HTMLModel",
          "model_module_version": "1.5.0",
          "state": {
            "_view_name": "HTMLView",
            "style": "IPY_MODEL_cf0d92bb2fed4aa6935c0efbd369ee2a",
            "_dom_classes": [],
            "description": "",
            "_model_name": "HTMLModel",
            "placeholder": "​",
            "_view_module": "@jupyter-widgets/controls",
            "_model_module_version": "1.5.0",
            "value": "Dl Completed...: 100%",
            "_view_count": null,
            "_view_module_version": "1.5.0",
            "description_tooltip": null,
            "_model_module": "@jupyter-widgets/controls",
            "layout": "IPY_MODEL_0a2beec464b74335847c97eef8d6a9c2"
          }
        },
        "2349d49a172846ad86f154615587f246": {
          "model_module": "@jupyter-widgets/controls",
          "model_name": "FloatProgressModel",
          "model_module_version": "1.5.0",
          "state": {
            "_view_name": "ProgressView",
            "style": "IPY_MODEL_d3a4c0e9af4c476db44c46a7d64fc9ac",
            "_dom_classes": [],
            "description": "",
            "_model_name": "FloatProgressModel",
            "bar_style": "success",
            "max": 4,
            "_view_module": "@jupyter-widgets/controls",
            "_model_module_version": "1.5.0",
            "value": 4,
            "_view_count": null,
            "_view_module_version": "1.5.0",
            "orientation": "horizontal",
            "min": 0,
            "description_tooltip": null,
            "_model_module": "@jupyter-widgets/controls",
            "layout": "IPY_MODEL_79c2fe102c4849a3beb3245cc2547fdd"
          }
        },
        "c3435a7e88a94a94b455c193e817d262": {
          "model_module": "@jupyter-widgets/controls",
          "model_name": "HTMLModel",
          "model_module_version": "1.5.0",
          "state": {
            "_view_name": "HTMLView",
            "style": "IPY_MODEL_704b85a27e1a458d8f955e860d7fd192",
            "_dom_classes": [],
            "description": "",
            "_model_name": "HTMLModel",
            "placeholder": "​",
            "_view_module": "@jupyter-widgets/controls",
            "_model_module_version": "1.5.0",
            "value": " 4/4 [00:00&lt;00:00,  9.52 file/s]",
            "_view_count": null,
            "_view_module_version": "1.5.0",
            "description_tooltip": null,
            "_model_module": "@jupyter-widgets/controls",
            "layout": "IPY_MODEL_15d1032304bf421cad5f16041e1d1477"
          }
        },
        "cf0d92bb2fed4aa6935c0efbd369ee2a": {
          "model_module": "@jupyter-widgets/controls",
          "model_name": "DescriptionStyleModel",
          "model_module_version": "1.5.0",
          "state": {
            "_view_name": "StyleView",
            "_model_name": "DescriptionStyleModel",
            "description_width": "",
            "_view_module": "@jupyter-widgets/base",
            "_model_module_version": "1.5.0",
            "_view_count": null,
            "_view_module_version": "1.2.0",
            "_model_module": "@jupyter-widgets/controls"
          }
        },
        "0a2beec464b74335847c97eef8d6a9c2": {
          "model_module": "@jupyter-widgets/base",
          "model_name": "LayoutModel",
          "model_module_version": "1.2.0",
          "state": {
            "_view_name": "LayoutView",
            "grid_template_rows": null,
            "right": null,
            "justify_content": null,
            "_view_module": "@jupyter-widgets/base",
            "overflow": null,
            "_model_module_version": "1.2.0",
            "_view_count": null,
            "flex_flow": null,
            "width": null,
            "min_width": null,
            "border": null,
            "align_items": null,
            "bottom": null,
            "_model_module": "@jupyter-widgets/base",
            "top": null,
            "grid_column": null,
            "overflow_y": null,
            "overflow_x": null,
            "grid_auto_flow": null,
            "grid_area": null,
            "grid_template_columns": null,
            "flex": null,
            "_model_name": "LayoutModel",
            "justify_items": null,
            "grid_row": null,
            "max_height": null,
            "align_content": null,
            "visibility": null,
            "align_self": null,
            "height": null,
            "min_height": null,
            "padding": null,
            "grid_auto_rows": null,
            "grid_gap": null,
            "max_width": null,
            "order": null,
            "_view_module_version": "1.2.0",
            "grid_template_areas": null,
            "object_position": null,
            "object_fit": null,
            "grid_auto_columns": null,
            "margin": null,
            "display": null,
            "left": null
          }
        },
        "d3a4c0e9af4c476db44c46a7d64fc9ac": {
          "model_module": "@jupyter-widgets/controls",
          "model_name": "ProgressStyleModel",
          "model_module_version": "1.5.0",
          "state": {
            "_view_name": "StyleView",
            "_model_name": "ProgressStyleModel",
            "description_width": "",
            "_view_module": "@jupyter-widgets/base",
            "_model_module_version": "1.5.0",
            "_view_count": null,
            "_view_module_version": "1.2.0",
            "bar_color": null,
            "_model_module": "@jupyter-widgets/controls"
          }
        },
        "79c2fe102c4849a3beb3245cc2547fdd": {
          "model_module": "@jupyter-widgets/base",
          "model_name": "LayoutModel",
          "model_module_version": "1.2.0",
          "state": {
            "_view_name": "LayoutView",
            "grid_template_rows": null,
            "right": null,
            "justify_content": null,
            "_view_module": "@jupyter-widgets/base",
            "overflow": null,
            "_model_module_version": "1.2.0",
            "_view_count": null,
            "flex_flow": null,
            "width": null,
            "min_width": null,
            "border": null,
            "align_items": null,
            "bottom": null,
            "_model_module": "@jupyter-widgets/base",
            "top": null,
            "grid_column": null,
            "overflow_y": null,
            "overflow_x": null,
            "grid_auto_flow": null,
            "grid_area": null,
            "grid_template_columns": null,
            "flex": null,
            "_model_name": "LayoutModel",
            "justify_items": null,
            "grid_row": null,
            "max_height": null,
            "align_content": null,
            "visibility": null,
            "align_self": null,
            "height": null,
            "min_height": null,
            "padding": null,
            "grid_auto_rows": null,
            "grid_gap": null,
            "max_width": null,
            "order": null,
            "_view_module_version": "1.2.0",
            "grid_template_areas": null,
            "object_position": null,
            "object_fit": null,
            "grid_auto_columns": null,
            "margin": null,
            "display": null,
            "left": null
          }
        },
        "704b85a27e1a458d8f955e860d7fd192": {
          "model_module": "@jupyter-widgets/controls",
          "model_name": "DescriptionStyleModel",
          "model_module_version": "1.5.0",
          "state": {
            "_view_name": "StyleView",
            "_model_name": "DescriptionStyleModel",
            "description_width": "",
            "_view_module": "@jupyter-widgets/base",
            "_model_module_version": "1.5.0",
            "_view_count": null,
            "_view_module_version": "1.2.0",
            "_model_module": "@jupyter-widgets/controls"
          }
        },
        "15d1032304bf421cad5f16041e1d1477": {
          "model_module": "@jupyter-widgets/base",
          "model_name": "LayoutModel",
          "model_module_version": "1.2.0",
          "state": {
            "_view_name": "LayoutView",
            "grid_template_rows": null,
            "right": null,
            "justify_content": null,
            "_view_module": "@jupyter-widgets/base",
            "overflow": null,
            "_model_module_version": "1.2.0",
            "_view_count": null,
            "flex_flow": null,
            "width": null,
            "min_width": null,
            "border": null,
            "align_items": null,
            "bottom": null,
            "_model_module": "@jupyter-widgets/base",
            "top": null,
            "grid_column": null,
            "overflow_y": null,
            "overflow_x": null,
            "grid_auto_flow": null,
            "grid_area": null,
            "grid_template_columns": null,
            "flex": null,
            "_model_name": "LayoutModel",
            "justify_items": null,
            "grid_row": null,
            "max_height": null,
            "align_content": null,
            "visibility": null,
            "align_self": null,
            "height": null,
            "min_height": null,
            "padding": null,
            "grid_auto_rows": null,
            "grid_gap": null,
            "max_width": null,
            "order": null,
            "_view_module_version": "1.2.0",
            "grid_template_areas": null,
            "object_position": null,
            "object_fit": null,
            "grid_auto_columns": null,
            "margin": null,
            "display": null,
            "left": null
          }
        }
      }
    }
   ],
   "source": [
    "import tensorflow as tf\n",
    "import tensorflow_datasets as tfds\n",
    "\n",
    "(ds_train, ds_test), ds_info = tfds.load(\n",
    "    'mnist',\n",
    "    split=['train', 'test'],\n",
    "    shuffle_files=True,\n",
    "    as_supervised=True,\n",
    "    with_info=True,\n",
    ")\n",
    "\n",
    "def normalize_img(image, label):\n",
    "  \"\"\"Normalizes images: `uint8` -> `float32`.\"\"\"\n",
    "  return tf.cast(image, tf.float32) / 255., label\n",
    "\n",
    "ds_train = ds_train.map(\n",
    "    normalize_img, num_parallel_calls=tf.data.AUTOTUNE)\n",
    "ds_train = ds_train.cache()\n",
    "ds_train = ds_train.shuffle(ds_info.splits['train'].num_examples)\n",
    "ds_train = ds_train.batch(128)\n",
    "ds_train = ds_train.prefetch(tf.data.AUTOTUNE)"
   ]
  },
  {
   "cell_type": "code",
   "execution_count": 135,
   "metadata": {
    "id": "hjVlhYd-zCuY"
   },
   "outputs": [],
   "source": [
    "ds_test = ds_test.map(\n",
    "    normalize_img, num_parallel_calls=tf.data.AUTOTUNE)\n",
    "ds_test = ds_test.batch(128)\n",
    "ds_test = ds_test.cache()\n",
    "ds_test = ds_test.prefetch(tf.data.AUTOTUNE)"
   ]
  },
  {
   "cell_type": "code",
   "execution_count": 136,
   "metadata": {
    "colab": {
     "base_uri": "https://localhost:8080/"
    },
    "id": "EYgeQHNQzDjB",
    "outputId": "8a23a8fc-0ed8-444c-b890-773c6bc99d09"
   },
   "outputs": [
    {
     "name": "stdout",
     "output_type": "stream",
     "text": [
      "Epoch 1/6\n",
      "469/469 [==============================] - 9s 6ms/step - loss: 0.3534 - sparse_categorical_accuracy: 0.9020 - val_loss: 0.1928 - val_sparse_categorical_accuracy: 0.9448\n",
      "Epoch 2/6\n",
      "469/469 [==============================] - 2s 3ms/step - loss: 0.1602 - sparse_categorical_accuracy: 0.9540 - val_loss: 0.1324 - val_sparse_categorical_accuracy: 0.9606\n",
      "Epoch 3/6\n",
      "469/469 [==============================] - 2s 3ms/step - loss: 0.1131 - sparse_categorical_accuracy: 0.9675 - val_loss: 0.1037 - val_sparse_categorical_accuracy: 0.9683\n",
      "Epoch 4/6\n",
      "469/469 [==============================] - 2s 3ms/step - loss: 0.0868 - sparse_categorical_accuracy: 0.9752 - val_loss: 0.0986 - val_sparse_categorical_accuracy: 0.9705\n",
      "Epoch 5/6\n",
      "469/469 [==============================] - 2s 4ms/step - loss: 0.0699 - sparse_categorical_accuracy: 0.9798 - val_loss: 0.0825 - val_sparse_categorical_accuracy: 0.9740\n",
      "Epoch 6/6\n",
      "469/469 [==============================] - 2s 3ms/step - loss: 0.0573 - sparse_categorical_accuracy: 0.9841 - val_loss: 0.0819 - val_sparse_categorical_accuracy: 0.9751\n"
     ]
    },
    {
     "data": {
      "text/plain": [
       "<keras.callbacks.History at 0x7f9f3895b650>"
      ]
     },
     "execution_count": 136,
     "metadata": {},
     "output_type": "execute_result"
    }
   ],
   "source": [
    "model = tf.keras.models.Sequential([\n",
    "  tf.keras.layers.Flatten(input_shape=(28, 28), name=\"flat\"),\n",
    "  tf.keras.layers.Dense(128, activation='relu', name=\"dense1\"),\n",
    "  tf.keras.layers.Dense(10)\n",
    "])\n",
    "model.compile(\n",
    "    optimizer=tf.keras.optimizers.Adam(0.001),\n",
    "    loss=tf.keras.losses.SparseCategoricalCrossentropy(from_logits=True),\n",
    "    metrics=[tf.keras.metrics.SparseCategoricalAccuracy()],\n",
    ")\n",
    "\n",
    "model.fit(\n",
    "    ds_train,\n",
    "    epochs=6,\n",
    "    validation_data=ds_test,\n",
    ")"
   ]
  },
  {
   "cell_type": "code",
   "execution_count": 137,
   "metadata": {
    "id": "yEX-jLoYpFel"
   },
   "outputs": [],
   "source": [
    "# tf.keras.layers.InputLayer(input_shape=(28, 28), name='input'), \n",
    "prob_model = tf.keras.Sequential([model, tf.keras.layers.Softmax(name='softmax')])"
   ]
  },
  {
   "cell_type": "code",
   "execution_count": 138,
   "metadata": {
    "colab": {
     "base_uri": "https://localhost:8080/"
    },
    "id": "yGVEJPUJAzdw",
    "outputId": "465f4048-7f10-4ff8-89d6-71a82c6d8bc1"
   },
   "outputs": [
    {
      "cell_type": "code",
      "metadata": {
        "id": "pn4B-Bo6yIwZ",
        "colab": {
          "base_uri": "https://localhost:8080/",
          "height": 188,
          "referenced_widgets": [
            "985d7e4df77d46c7b06473aa09a583bb",
            "b69115e6464a4d079b71294d11dd7322",
            "5e9e5f80b1b44e0ab138c21399b45136",
            "2349d49a172846ad86f154615587f246",
            "c3435a7e88a94a94b455c193e817d262",
            "cf0d92bb2fed4aa6935c0efbd369ee2a",
            "0a2beec464b74335847c97eef8d6a9c2",
            "d3a4c0e9af4c476db44c46a7d64fc9ac",
            "79c2fe102c4849a3beb3245cc2547fdd",
            "704b85a27e1a458d8f955e860d7fd192",
            "15d1032304bf421cad5f16041e1d1477"
          ]
        },
        "outputId": "b0d05ab6-f5c8-45f8-f69f-18a1610ea8ad"
      },
      "source": [
        "import tensorflow as tf\n",
        "import tensorflow_datasets as tfds\n",
        "\n",
        "(ds_train, ds_test), ds_info = tfds.load(\n",
        "    'mnist',\n",
        "    split=['train', 'test'],\n",
        "    shuffle_files=True,\n",
        "    as_supervised=True,\n",
        "    with_info=True,\n",
        ")\n",
        "\n",
        "def normalize_img(image, label):\n",
        "  \"\"\"Normalizes images: `uint8` -> `float32`.\"\"\"\n",
        "  return tf.cast(image, tf.float32) / 255., label\n",
        "\n",
        "ds_train = ds_train.map(\n",
        "    normalize_img, num_parallel_calls=tf.data.AUTOTUNE)\n",
        "ds_train = ds_train.cache()\n",
        "ds_train = ds_train.shuffle(ds_info.splits['train'].num_examples)\n",
        "ds_train = ds_train.batch(128)\n",
        "ds_train = ds_train.prefetch(tf.data.AUTOTUNE)"
      ],
      "execution_count": 1,
      "outputs": [
        {
          "output_type": "stream",
          "name": "stdout",
          "text": [
            "\u001b[1mDownloading and preparing dataset mnist/3.0.1 (download: 11.06 MiB, generated: 21.00 MiB, total: 32.06 MiB) to /root/tensorflow_datasets/mnist/3.0.1...\u001b[0m\n"
          ]
        },
        {
          "output_type": "stream",
          "name": "stderr",
          "text": [
            "WARNING:absl:Dataset mnist is hosted on GCS. It will automatically be downloaded to your\n",
            "local data directory. If you'd instead prefer to read directly from our public\n",
            "GCS bucket (recommended if you're running on GCP), you can instead pass\n",
            "`try_gcs=True` to `tfds.load` or set `data_dir=gs://tfds-data/datasets`.\n",
            "\n"
          ]
        },
        {
          "output_type": "display_data",
          "data": {
            "application/vnd.jupyter.widget-view+json": {
              "model_id": "985d7e4df77d46c7b06473aa09a583bb",
              "version_minor": 0,
              "version_major": 2
            },
            "text/plain": [
              "Dl Completed...:   0%|          | 0/4 [00:00<?, ? file/s]"
            ]
          },
          "metadata": {}
        },
        {
          "output_type": "stream",
          "name": "stdout",
          "text": [
            "\n",
            "\u001b[1mDataset mnist downloaded and prepared to /root/tensorflow_datasets/mnist/3.0.1. Subsequent calls will reuse this data.\u001b[0m\n"
          ]
        }
      ]
    },
    "id": "fmIz0jlnm_td",
    "outputId": "54fe2de8-be94-41f2-a871-8505903d8c56"
   },
   "outputs": [
    {
      "cell_type": "code",
      "metadata": {
        "id": "hjVlhYd-zCuY"
      },
      "source": [
        "ds_test = ds_test.map(\n",
        "    normalize_img, num_parallel_calls=tf.data.AUTOTUNE)\n",
        "ds_test = ds_test.batch(128)\n",
        "ds_test = ds_test.cache()\n",
        "ds_test = ds_test.prefetch(tf.data.AUTOTUNE)"
      ],
      "execution_count": 2,
      "outputs": []
    },
    "id": "R9ViwVS5BopJ",
    "outputId": "fe99c3bb-9d37-4099-e5c8-6dc78b3613ed"
   },
   "outputs": [
    {
      "cell_type": "code",
      "metadata": {
        "colab": {
          "base_uri": "https://localhost:8080/"
        },
        "id": "EYgeQHNQzDjB",
        "outputId": "29b97132-7603-4d15-8963-ad1f5a504da5"
      },
      "source": [
        "model = tf.keras.models.Sequential([\n",
        "  tf.keras.layers.Flatten(input_shape=(28, 28), name=\"flat\"),\n",
        "  tf.keras.layers.Dense(128, activation='relu', name=\"dense1\"),\n",
        "  tf.keras.layers.Dense(10)\n",
        "])\n",
        "model.compile(\n",
        "    optimizer=tf.keras.optimizers.Adam(0.001),\n",
        "    loss=tf.keras.losses.SparseCategoricalCrossentropy(from_logits=True),\n",
        "    metrics=[tf.keras.metrics.SparseCategoricalAccuracy()],\n",
        ")\n",
        "\n",
        "model.fit(\n",
        "    ds_train,\n",
        "    epochs=6,\n",
        "    validation_data=ds_test,\n",
        ")"
      ],
      "execution_count": 3,
      "outputs": [
        {
          "output_type": "stream",
          "name": "stdout",
          "text": [
            "Epoch 1/6\n",
            "469/469 [==============================] - 10s 7ms/step - loss: 0.3592 - sparse_categorical_accuracy: 0.9022 - val_loss: 0.1981 - val_sparse_categorical_accuracy: 0.9421\n",
            "Epoch 2/6\n",
            "469/469 [==============================] - 2s 4ms/step - loss: 0.1697 - sparse_categorical_accuracy: 0.9518 - val_loss: 0.1463 - val_sparse_categorical_accuracy: 0.9571\n",
            "Epoch 3/6\n",
            "469/469 [==============================] - 2s 4ms/step - loss: 0.1227 - sparse_categorical_accuracy: 0.9648 - val_loss: 0.1170 - val_sparse_categorical_accuracy: 0.9662\n",
            "Epoch 4/6\n",
            "469/469 [==============================] - 2s 4ms/step - loss: 0.0953 - sparse_categorical_accuracy: 0.9724 - val_loss: 0.0977 - val_sparse_categorical_accuracy: 0.9700\n",
            "Epoch 5/6\n",
            "469/469 [==============================] - 2s 4ms/step - loss: 0.0769 - sparse_categorical_accuracy: 0.9777 - val_loss: 0.0989 - val_sparse_categorical_accuracy: 0.9694\n",
            "Epoch 6/6\n",
            "469/469 [==============================] - 2s 4ms/step - loss: 0.0630 - sparse_categorical_accuracy: 0.9816 - val_loss: 0.0889 - val_sparse_categorical_accuracy: 0.9733\n"
          ]
        },
        {
          "output_type": "execute_result",
          "data": {
            "text/plain": [
              "<keras.callbacks.History at 0x7fa567e8f2d0>"
            ]
          },
          "metadata": {},
          "execution_count": 3
        }
      ]
     },
     "execution_count": 140,
     "metadata": {},
     "output_type": "execute_result"
    },
    {
      "cell_type": "code",
      "metadata": {
        "id": "yEX-jLoYpFel"
      },
      "source": [
        "# tf.keras.layers.InputLayer(input_shape=(28, 28), name='input'), \n",
        "prob_model = tf.keras.Sequential([model, tf.keras.layers.Softmax(name='softmax')])"
      ],
      "execution_count": 4,
      "outputs": []
    },
    "id": "bLfApheHE9v1",
    "outputId": "329c8c7b-9308-4026-eb5a-ba4c7d017733"
   },
   "outputs": [
    {
      "cell_type": "code",
      "metadata": {
        "colab": {
          "base_uri": "https://localhost:8080/"
        },
        "id": "yGVEJPUJAzdw",
        "outputId": "c2fc4e0b-4ba5-4b03-ab52-bce7100844a3"
      },
      "source": [
        "print(ds_info.features['label'].names)"
      ],
      "execution_count": 5,
      "outputs": [
        {
          "output_type": "stream",
          "name": "stdout",
          "text": [
            "['0', '1', '2', '3', '4', '5', '6', '7', '8', '9']\n"
          ]
        }
      ]
     },
     "execution_count": 141,
     "metadata": {},
     "output_type": "execute_result"
    },
    {
      "cell_type": "code",
      "metadata": {
        "colab": {
          "base_uri": "https://localhost:8080/"
        },
        "id": "fmIz0jlnm_td",
        "outputId": "03dd95f5-231d-4f61-9fea-e623f5f978b4"
      },
      "source": [
        "import cv2\n",
        "from matplotlib import pyplot as plt\n",
        "import numpy as np\n",
        "import imutils\n",
        "img3 = cv2.imread('/content/obj_3.png')\n",
        "img4 = cv2.imread('/content/obj_4.png')\n",
        "# img3 = np.load('/content/obj_3.npy')\n",
        "# img4 = np.load('/content/obj_4.npy')\n",
        "img3_gray = cv2.cvtColor(img3, cv2.COLOR_BGR2GRAY)\n",
        "img4_gray = cv2.cvtColor(img4, cv2.COLOR_BGR2GRAY)\n",
        "\n",
        "print(img3.shape)"
      ],
      "execution_count": 6,
      "outputs": [
        {
          "output_type": "stream",
          "name": "stdout",
          "text": [
            "(28, 28, 3)\n"
          ]
        }
      ]
     },
     "metadata": {
      "needs_background": "light"
     },
     "output_type": "display_data"
    }
   ],
   "source": [
    "plt.imshow(imutils.opencv2matplotlib(img4))"
   ]
  },
  {
   "cell_type": "code",
   "execution_count": 142,
   "metadata": {
    "colab": {
     "base_uri": "https://localhost:8080/"
    },
    "id": "2hL18FsF7KxB",
    "outputId": "25a9b40c-6b9c-4732-e94a-7ffde5d32c58"
   },
   "outputs": [
    {
      "cell_type": "code",
      "metadata": {
        "colab": {
          "base_uri": "https://localhost:8080/",
          "height": 282
        },
        "id": "R9ViwVS5BopJ",
        "outputId": "140f1b33-567d-49d4-af8f-0fe0a19a5139"
      },
      "source": [
        "plt.imshow(imutils.opencv2matplotlib(img3))"
      ],
      "execution_count": 7,
      "outputs": [
        {
          "output_type": "execute_result",
          "data": {
            "text/plain": [
              "<matplotlib.image.AxesImage at 0x7fa56c5ecb50>"
            ]
          },
          "metadata": {},
          "execution_count": 7
        },
        {
          "output_type": "display_data",
          "data": {
            "image/png": "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\n",
            "text/plain": [
              "<Figure size 432x288 with 1 Axes>"
            ]
          },
          "metadata": {
            "needs_background": "light"
          }
        }
      ]
    },
    {
      "cell_type": "code",
      "metadata": {
        "colab": {
          "base_uri": "https://localhost:8080/",
          "height": 282
        },
        "id": "bLfApheHE9v1",
        "outputId": "d0bcfe7a-c9fe-4384-f1bb-6eb131dd5d6b"
      },
      "source": [
        "plt.imshow(imutils.opencv2matplotlib(img4))"
      ],
      "execution_count": 8,
      "outputs": [
        {
          "output_type": "execute_result",
          "data": {
            "text/plain": [
              "<matplotlib.image.AxesImage at 0x7fa56c40c410>"
            ]
          },
          "metadata": {},
          "execution_count": 8
        },
        {
          "output_type": "display_data",
          "data": {
            "image/png": "iVBORw0KGgoAAAANSUhEUgAAAPsAAAD4CAYAAAAq5pAIAAAABHNCSVQICAgIfAhkiAAAAAlwSFlzAAALEgAACxIB0t1+/AAAADh0RVh0U29mdHdhcmUAbWF0cGxvdGxpYiB2ZXJzaW9uMy4yLjIsIGh0dHA6Ly9tYXRwbG90bGliLm9yZy+WH4yJAAAMp0lEQVR4nO3dYYhd9ZnH8d/PmAixQeMGx8HKmq1BKMraZZCFDUsXbVDfxAYJzYslywpToUIq+6LSvkigCrJsuy8rEyKdlW5KwIihiEk2ls0uSHEUTUbddlyJNOOYGAJ2+sJkx3n6Ys4sY7z33Mk9595zZ57vBy733vPcO+fhkl/Oued/7vk7IgRg9bum6QYA9AdhB5Ig7EAShB1IgrADSVzbz5XZ5tA/0GMR4VbLK23ZbT9g+7e237f9ZJW/BaC33O04u+01kn4n6VuSzkp6XdKuiHi35D1s2YEe68WW/V5J70fEBxFxWdIvJW2v8PcA9FCVsN8q6fdLnp8tln2B7VHbE7YnKqwLQEU9P0AXEWOSxiR244EmVdmyT0u6bcnzrxbLAAygKmF/XdIW25ttr5P0HUlH6mkLQN263o2PiDnbj0s6KmmNpOci4p3aOgNQq66H3rpaGd/ZgZ7ryUk1AFYOwg4kQdiBJAg7kARhB5Ig7EAShB1IgrADSRB2IAnCDiRB2IEkCDuQBGEHkiDsQBKEHUiCsANJEHYgCcIOJEHYgSQIO5AEYQeS6OuUzWht586dpfUnnniitD45Odm2Nj8/X/reubm50rrd8kKltRgaGiqt79mzp7R+9uzZOttZ9diyA0kQdiAJwg4kQdiBJAg7kARhB5Ig7EASjLMPgLfffrtS/bHHHquznb7ZsGFDaf2zzz7rUyc5VAq77TOSZiV9LmkuIkbqaApA/erYsv9dRFyo4e8A6CG+swNJVA17SDpm+w3bo61eYHvU9oTtiYrrAlBB1d34rRExbftmScdt/09EnFz6gogYkzQmSbaj4voAdKnSlj0ipov785JelHRvHU0BqF/XYbd9ve0Ni48lbZPU/reWABpVZTd+SNKLxe+dr5X07xHxSi1dJTM1NVVav/POO/vUSX/Nzs423UIqXYc9Ij6Q9Jc19gKghxh6A5Ig7EAShB1IgrADSRB2IAl+4joAOl3u+cIFfmeE6tiyA0kQdiAJwg4kQdiBJAg7kARhB5Ig7EASjLOvANPT06X1G264oW3t008/rbsdrFBs2YEkCDuQBGEHkiDsQBKEHUiCsANJEHYgCcbZV4CZmZnS+i233NK2xjg7FrFlB5Ig7EAShB1IgrADSRB2IAnCDiRB2IEkGGdfAS5dulRav/HGG/vUCVayjlt228/ZPm97csmym2wftz1V3G/sbZsAqlrObvzPJT1wxbInJZ2IiC2SThTPAQywjmGPiJOSLl6xeLuk8eLxuKSHa+4LQM26/c4+FBGLJ2x/LGmo3Qttj0oa7XI9AGpS+QBdRITtKKmPSRqTpLLXAeitbofeztkelqTi/nx9LQHohW7DfkTS7uLxbkkv1dMOgF7puBtv+6Ckb0raZPuspL2SnpF0yPajkj6UtLOXTWZ3+fLl0vqDDz7YtnbXXXeVvnf9+vWl9U8++aS0fuzYsdL6xYtXHttFUzqGPSJ2tSndV3MvAHqI02WBJAg7kARhB5Ig7EAShB1Igp+4rgCvvfZaaX379u1d/+2PPvqotL558+bS+ssvv1xa379/f9vagQMHSt+LerFlB5Ig7EAShB1IgrADSRB2IAnCDiRB2IEkHNG/i8dwpZrVZ926daX18fHxtrVOY/TPP/98Vz1lFxFutZwtO5AEYQeSIOxAEoQdSIKwA0kQdiAJwg4kwTg7eqpsHP6VV14pfe8jjzxSWucy1a0xzg4kR9iBJAg7kARhB5Ig7EAShB1IgrADSTDOjsZs3bq1tH7//feX1vft21djN6tH1+Pstp+zfd725JJl+2xP236ruD1UZ7MA6rec3fifS3qgxfJ/jYh7ilv5JUcANK5j2CPipCTOSwRWuCoH6B63farYzd/Y7kW2R21P2J6osC4AFXUb9p9J+pqkeyTNSPpJuxdGxFhEjETESJfrAlCDrsIeEeci4vOImJe0X9K99bYFoG5dhd328JKn35Y02e61AAZDx3F22wclfVPSJknnJO0tnt8jKSSdkfTdiJjpuDLG2XEVDh8+XFrfsWNHnzpZWdqNs1+7jDfuarH4QOWOAPQVp8sCSRB2IAnCDiRB2IEkCDuQRMej8UBTpqamSutbtmyp9P5s2LIDSRB2IAnCDiRB2IEkCDuQBGEHkiDsQBKMs2NgzcyU/2p6eHi4tM44+xexZQeSIOxAEoQdSIKwA0kQdiAJwg4kQdiBJBhnx8C6+eabS+uzs7N96mR1YMsOJEHYgSQIO5AEYQeSIOxAEoQdSIKwA0l0nLK51pUxZTOWWLNmTWn9+PHjpfVt27aV1ufm5q66p9Wg3ZTNHbfstm+z/Wvb79p+x/aeYvlNto/bniruN9bdNID6LGc3fk7SP0XE1yX9taTv2f66pCclnYiILZJOFM8BDKiOYY+ImYh4s3g8K+k9SbdK2i5pvHjZuKSHe9UkgOqu6tx427dL+oak30gaiojFi4R9LGmozXtGJY123yKAOiz7aLztr0h6QdL3I+IPS2uxcJSv5cG3iBiLiJGIGKnUKYBKlhV222u1EPRfRMThYvE528NFfVjS+d60CKAOHXfjbVvSAUnvRcRPl5SOSNot6Zni/qWedLgKrF+/vrR+xx13lNZPnTpVZzsD4+mnny6tP/vss6X1rENr3VrOd/a/kfT3kk7bfqtY9kMthPyQ7UclfShpZ29aBFCHjmGPiP+W1HKQXtJ99bYDoFc4XRZIgrADSRB2IAnCDiRB2IEkuJR0H2zatKm0fvDgwdL6yZMnS+tHjhxpW3v11VdL33vp0qXSeid33313aX3v3r1ta0ePHi1976FDh7rqCa2xZQeSIOxAEoQdSIKwA0kQdiAJwg4kQdiBJLiU9AC47rrrSusjI+UX+dmxY0fb2n33lf8wce3ataX1Tk6fPl1af+qpp9rWJicnK60brXV9KWkAqwNhB5Ig7EAShB1IgrADSRB2IAnCDiTBOHty11xT/v/9/Px8nzpBXRhnB5Ij7EAShB1IgrADSRB2IAnCDiRB2IEkOobd9m22f237Xdvv2N5TLN9ne9r2W8Xtod63i7rNz8+X3rB6dDypxvawpOGIeNP2BklvSHpYC/Ox/zEi/mXZK+OkGqDn2p1Us5z52WckzRSPZ22/J+nWetsD0GtX9Z3d9u2SviHpN8Wix22fsv2c7Y1t3jNqe8L2RKVOAVSy7HPjbX9F0n9KejoiDtseknRBUkj6sRZ29f+xw99gNx7osXa78csKu+21kn4l6WhE/LRF/XZJv4qIuzr8HcIO9FjXP4SxbUkHJL23NOjFgbtF35bEpUKBAbaco/FbJf2XpNOSFsdifihpl6R7tLAbf0bSd4uDeWV/iy070GOVduPrQtiB3uP37EByhB1IgrADSRB2IAnCDiRB2IEkCDuQBGEHkiDsQBKEHUiCsANJEHYgCcIOJEHYgSQ6XnCyZhckfbjk+aZi2SAa1N4GtS+J3rpVZ29/3q7Q19+zf2nl9kREjDTWQIlB7W1Q+5LorVv96o3deCAJwg4k0XTYxxpef5lB7W1Q+5LorVt96a3R7+wA+qfpLTuAPiHsQBKNhN32A7Z/a/t920820UM7ts/YPl1MQ93o/HTFHHrnbU8uWXaT7eO2p4r7lnPsNdTbQEzjXTLNeKOfXdPTn/f9O7vtNZJ+J+lbks5Kel3Sroh4t6+NtGH7jKSRiGj8BAzbfyvpj5L+bXFqLdv/LOliRDxT/Ee5MSJ+MCC97dNVTuPdo97aTTP+D2rws6tz+vNuNLFlv1fS+xHxQURclvRLSdsb6GPgRcRJSRevWLxd0njxeFwL/1j6rk1vAyEiZiLizeLxrKTFacYb/exK+uqLJsJ+q6TfL3l+VoM133tIOmb7DdujTTfTwtCSabY+ljTUZDMtdJzGu5+umGZ8YD67bqY/r4oDdF+2NSL+StKDkr5X7K4OpFj4DjZIY6c/k/Q1LcwBOCPpJ002U0wz/oKk70fEH5bWmvzsWvTVl8+tibBPS7ptyfOvFssGQkRMF/fnJb2oha8dg+Tc4gy6xf35hvv5fxFxLiI+j4h5SfvV4GdXTDP+gqRfRMThYnHjn12rvvr1uTUR9tclbbG92fY6Sd+RdKSBPr7E9vXFgRPZvl7SNg3eVNRHJO0uHu+W9FKDvXzBoEzj3W6acTX82TU+/XlE9P0m6SEtHJH/X0k/aqKHNn39haS3i9s7Tfcm6aAWduv+TwvHNh6V9GeSTkiakvQfkm4aoN6e18LU3qe0EKzhhnrbqoVd9FOS3ipuDzX92ZX01ZfPjdNlgSQ4QAckQdiBJAg7kARhB5Ig7EAShB1IgrADSfwJlW8jsrxJECgAAAAASUVORK5CYII=\n",
            "text/plain": [
              "<Figure size 432x288 with 1 Axes>"
            ]
          },
          "metadata": {
            "needs_background": "light"
          }
        }
      ]
    },
    {
      "cell_type": "code",
      "metadata": {
        "colab": {
          "base_uri": "https://localhost:8080/"
        },
        "id": "2hL18FsF7KxB",
        "outputId": "9fba9a6a-ee17-45c1-f8b1-68452d3a10fa"
      },
      "source": [
        "result = prob_model.predict(np.array([img3_gray, img4_gray]))\n",
        "print(result)\n",
        "print(np.argmax(result, axis=1))\n",
        "print()"
      ],
      "execution_count": 9,
      "outputs": [
        {
          "output_type": "stream",
          "name": "stdout",
          "text": [
            "[[0. 0. 0. 1. 0. 0. 0. 0. 0. 0.]\n",
            " [0. 0. 0. 0. 0. 1. 0. 0. 0. 0.]]\n",
            "[3 5]\n",
            "\n"
          ]
        }
      ]
    },
    {
      "cell_type": "code",
      "metadata": {
        "colab": {
          "base_uri": "https://localhost:8080/"
        },
        "id": "iggcnAMuYmO7",
        "outputId": "a65de1ac-6b61-4f9f-a66b-ceef1c1da645"
      },
      "source": [
        "prob_model.save('model')"
      ],
      "execution_count": 11,
      "outputs": [
        {
          "output_type": "stream",
          "name": "stdout",
          "text": [
            "WARNING:tensorflow:Compiled the loaded model, but the compiled metrics have yet to be built. `model.compile_metrics` will be empty until you train or evaluate the model.\n"
          ]
        },
        {
          "output_type": "stream",
          "name": "stderr",
          "text": [
            "WARNING:tensorflow:Compiled the loaded model, but the compiled metrics have yet to be built. `model.compile_metrics` will be empty until you train or evaluate the model.\n"
          ]
        },
        {
          "output_type": "stream",
          "name": "stdout",
          "text": [
            "INFO:tensorflow:Assets written to: model/assets\n"
          ]
        },
        {
          "output_type": "stream",
          "name": "stderr",
          "text": [
            "INFO:tensorflow:Assets written to: model/assets\n"
          ]
        }
      ]
    },
    {
      "cell_type": "code",
      "metadata": {
        "colab": {
          "base_uri": "https://localhost:8080/"
        },
        "id": "kcRftLqDZJq7",
        "outputId": "4848192a-3277-4479-bc38-7d420eeab115"
      },
      "source": [
        "!zip -r /content/trained_model.zip /content/trained_model/"
      ],
      "execution_count": 12,
      "outputs": [
        {
          "output_type": "stream",
          "name": "stdout",
          "text": [
            "  adding: content/trained_model/ (stored 0%)\n",
            "  adding: content/trained_model/assets/ (stored 0%)\n",
            "  adding: content/trained_model/variables/ (stored 0%)\n",
            "  adding: content/trained_model/variables/variables.data-00000-of-00001 (deflated 12%)\n",
            "  adding: content/trained_model/variables/variables.index (deflated 61%)\n",
            "  adding: content/trained_model/keras_metadata.pb (deflated 89%)\n",
            "  adding: content/trained_model/saved_model.pb (deflated 88%)\n"
          ]
        }
      ]
    }
   ],
   "source": [
    "result = prob_model.predict(np.array([img3_gray, img4_gray]))\n",
    "print(result)\n",
    "print(np.argmax(result, axis=1))\n",
    "print()"
   ]
  }
 ],
 "metadata": {
  "colab": {
   "authorship_tag": "ABX9TyOLcX9d1ncpLB62Pl2vFdfX",
   "collapsed_sections": [],
   "include_colab_link": true,
   "name": "digit_recognizer.ipynb",
   "provenance": []
  },
  "kernelspec": {
   "display_name": "Python 3 (ipykernel)",
   "language": "python",
   "name": "python3"
  },
  "language_info": {
   "codemirror_mode": {
    "name": "ipython",
    "version": 3
   },
   "file_extension": ".py",
   "mimetype": "text/x-python",
   "name": "python",
   "nbconvert_exporter": "python",
   "pygments_lexer": "ipython3",
   "version": "3.7.11"
  }
 },
 "nbformat": 4,
 "nbformat_minor": 1
}
